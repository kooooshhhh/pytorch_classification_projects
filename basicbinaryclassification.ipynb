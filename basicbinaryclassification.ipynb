{
 "cells": [
  {
   "cell_type": "code",
   "execution_count": 1,
   "id": "c03ab007",
   "metadata": {},
   "outputs": [],
   "source": [
    "#pytorch workflow"
   ]
  },
  {
   "cell_type": "markdown",
   "id": "b8b51c8a",
   "metadata": {},
   "source": [
    "# what_we_covering\n",
    "### prepare data\n",
    "### build model\n",
    "### fitting model to data\n",
    "### making predictions and evaluating a model\n",
    "### saving and loading a model\n",
    "### putting it all together\n"
   ]
  },
  {
   "cell_type": "code",
   "execution_count": 2,
   "id": "2b8be5c1",
   "metadata": {},
   "outputs": [],
   "source": [
    "import torch\n",
    "from torch import nn ## nn consists all of Pytorch's building blocks for neural networks\n",
    "import matplotlib.pyplot as plt"
   ]
  },
  {
   "cell_type": "code",
   "execution_count": 3,
   "id": "dfbfe260",
   "metadata": {},
   "outputs": [
    {
     "name": "stdout",
     "output_type": "stream",
     "text": [
      "tensor([[0.0000],\n",
      "        [0.0200],\n",
      "        [0.0400],\n",
      "        [0.0600],\n",
      "        [0.0800],\n",
      "        [0.1000],\n",
      "        [0.1200],\n",
      "        [0.1400],\n",
      "        [0.1600],\n",
      "        [0.1800],\n",
      "        [0.2000],\n",
      "        [0.2200],\n",
      "        [0.2400],\n",
      "        [0.2600],\n",
      "        [0.2800],\n",
      "        [0.3000],\n",
      "        [0.3200],\n",
      "        [0.3400],\n",
      "        [0.3600],\n",
      "        [0.3800],\n",
      "        [0.4000],\n",
      "        [0.4200],\n",
      "        [0.4400],\n",
      "        [0.4600],\n",
      "        [0.4800],\n",
      "        [0.5000],\n",
      "        [0.5200],\n",
      "        [0.5400],\n",
      "        [0.5600],\n",
      "        [0.5800],\n",
      "        [0.6000],\n",
      "        [0.6200],\n",
      "        [0.6400],\n",
      "        [0.6600],\n",
      "        [0.6800],\n",
      "        [0.7000],\n",
      "        [0.7200],\n",
      "        [0.7400],\n",
      "        [0.7600],\n",
      "        [0.7800],\n",
      "        [0.8000],\n",
      "        [0.8200],\n",
      "        [0.8400],\n",
      "        [0.8600],\n",
      "        [0.8800],\n",
      "        [0.9000],\n",
      "        [0.9200],\n",
      "        [0.9400],\n",
      "        [0.9600],\n",
      "        [0.9800]])\n",
      "tensor([[0.3000],\n",
      "        [0.3140],\n",
      "        [0.3280],\n",
      "        [0.3420],\n",
      "        [0.3560],\n",
      "        [0.3700],\n",
      "        [0.3840],\n",
      "        [0.3980],\n",
      "        [0.4120],\n",
      "        [0.4260],\n",
      "        [0.4400],\n",
      "        [0.4540],\n",
      "        [0.4680],\n",
      "        [0.4820],\n",
      "        [0.4960],\n",
      "        [0.5100],\n",
      "        [0.5240],\n",
      "        [0.5380],\n",
      "        [0.5520],\n",
      "        [0.5660],\n",
      "        [0.5800],\n",
      "        [0.5940],\n",
      "        [0.6080],\n",
      "        [0.6220],\n",
      "        [0.6360],\n",
      "        [0.6500],\n",
      "        [0.6640],\n",
      "        [0.6780],\n",
      "        [0.6920],\n",
      "        [0.7060],\n",
      "        [0.7200],\n",
      "        [0.7340],\n",
      "        [0.7480],\n",
      "        [0.7620],\n",
      "        [0.7760],\n",
      "        [0.7900],\n",
      "        [0.8040],\n",
      "        [0.8180],\n",
      "        [0.8320],\n",
      "        [0.8460],\n",
      "        [0.8600],\n",
      "        [0.8740],\n",
      "        [0.8880],\n",
      "        [0.9020],\n",
      "        [0.9160],\n",
      "        [0.9300],\n",
      "        [0.9440],\n",
      "        [0.9580],\n",
      "        [0.9720],\n",
      "        [0.9860]])\n"
     ]
    },
    {
     "data": {
      "text/plain": [
       "100"
      ]
     },
     "execution_count": 3,
     "metadata": {},
     "output_type": "execute_result"
    }
   ],
   "source": [
    "#create *known* parameters\n",
    "weight = 0.7\n",
    "bais = 0.3\n",
    "\n",
    "#create \n",
    "start=0\n",
    "end=1\n",
    "step=0.02\n",
    "X= torch.arange(start,end,step).unsqueeze(dim=1) #unsqueeze is imp later\n",
    "y= weight*X +bais\n",
    "print(X)\n",
    "print(y)\n",
    "len(X)+len(y)"
   ]
  },
  {
   "cell_type": "code",
   "execution_count": 4,
   "id": "4290dcfc",
   "metadata": {},
   "outputs": [],
   "source": [
    "#splitting data into training and test data\n",
    "train_split=int(0.8* len(X))\n",
    "X_train,y_train= X[:train_split], y[:train_split]\n",
    "X_test,y_test= X[train_split:], y[train_split:]"
   ]
  },
  {
   "cell_type": "code",
   "execution_count": 5,
   "id": "1bc21c33",
   "metadata": {},
   "outputs": [
    {
     "name": "stdout",
     "output_type": "stream",
     "text": [
      "40 10\n",
      "40 10\n"
     ]
    }
   ],
   "source": [
    "print(len(X_train), len(X_test))\n",
    "print(len(y_train), len(y_test))"
   ]
  },
  {
   "cell_type": "code",
   "execution_count": 6,
   "id": "df4dfdd6",
   "metadata": {},
   "outputs": [],
   "source": [
    "def plot_predictions(train_data=X_train,\n",
    "                    train_lables= y_train,\n",
    "                    test_data= X_test,\n",
    "                    test_lables=y_test,\n",
    "                    predictions=None):\n",
    "    \"\"\"\n",
    "    Plots training data, test data and compares predictions\n",
    "    \"\"\"\n",
    "    \n",
    "    plt.figure(figsize=(10,7))\n",
    "    \n",
    "    #plot the training data in blue\n",
    "    plt.scatter(train_data,train_lables, c='b', label='training data')\n",
    "    \n",
    "    #plot testing data in green\n",
    "    plt.scatter(test_data,test_lables, c='g', label='test data')\n",
    "    \n",
    "    #are there predictions?\n",
    "    if predictions is not None:\n",
    "        plt.scatter(test_data,predictions, 'r', label='predictions')"
   ]
  },
  {
   "cell_type": "code",
   "execution_count": 7,
   "id": "3bd63190",
   "metadata": {},
   "outputs": [
    {
     "data": {
      "image/png": "[encoded data removed]",
      "text/plain": [
       "<Figure size 720x504 with 1 Axes>"
      ]
     },
     "metadata": {
      "needs_background": "light"
     },
     "output_type": "display_data"
    }
   ],
   "source": [
    "plot_predictions()"
   ]
  },
  {
   "cell_type": "code",
   "execution_count": 8,
   "id": "6b447fc3",
   "metadata": {},
   "outputs": [],
   "source": [
    "#building pytorch model"
   ]
  },
  {
   "cell_type": "code",
   "execution_count": 9,
   "id": "57099664",
   "metadata": {},
   "outputs": [],
   "source": [
    "#creating linear regression model class"
   ]
  },
  {
   "cell_type": "code",
   "execution_count": 10,
   "id": "34fbd83b",
   "metadata": {},
   "outputs": [],
   "source": [
    "class LinearRegressionModel(nn.Module): ##almost everything inherits from nn.module\n",
    "    def __init__(self):\n",
    "        super().__init__()\n",
    "        self.weight= nn.Parameter(torch.randn(1,\n",
    "                                             requires_grad=True,\n",
    "                                             dtype= torch.float))\n",
    "        self.bais =nn.Parameter(torch.randn(1,\n",
    "                                           requires_grad=True,\n",
    "                                           dtype=torch.float))\n",
    "        \n",
    "    #forward method to define the computation in the model\n",
    "    def forward(self, x:torch.Tensor) -> torch.Tensor:\n",
    "        return self.weight * x + self.bais #LR formula\n",
    "    \n",
    "    "
   ]
  },
  {
   "cell_type": "code",
   "execution_count": 11,
   "id": "58515844",
   "metadata": {},
   "outputs": [],
   "source": [
    "## what our model does:\n",
    "#### starts with random values (weight and bais)\n",
    "#### look at training data and adjust the random values to better \n",
    "#####   represent(or get closer to) the ideal values (weights and bais)\n",
    "\n",
    "# it does it using:-\n",
    "# 1) gradient descent\n",
    "# 2) backpropogation"
   ]
  },
  {
   "cell_type": "code",
   "execution_count": 12,
   "id": "2875f147",
   "metadata": {},
   "outputs": [],
   "source": [
    "## pytorch model building essentials"
   ]
  },
  {
   "cell_type": "markdown",
   "id": "fa5d7dbc",
   "metadata": {},
   "source": [
    "* torch.nn - contains the building blocks for neural networks\n",
    "* torch.nn.Parameter- what parameters should our model try and learn, ofter torch.nn will set these for us\n",
    "* torch.nn.Module- base class for all neaural network modules, if you subclass it, you should overwrite it forward\n",
    "* torch.optim- this where the optimizers in Pytorch live, they will help with gradient descent\n"
   ]
  },
  {
   "cell_type": "code",
   "execution_count": 13,
   "id": "7a398c96",
   "metadata": {},
   "outputs": [
    {
     "data": {
      "text/plain": [
       "LinearRegressionModel()"
      ]
     },
     "execution_count": 13,
     "metadata": {},
     "output_type": "execute_result"
    }
   ],
   "source": [
    "#creating a random seed\n",
    "torch.manual_seed(42)\n",
    "#instance of the model\n",
    "model_0= LinearRegressionModel()\n",
    "model_0"
   ]
  },
  {
   "cell_type": "code",
   "execution_count": 14,
   "id": "22efa9d3",
   "metadata": {},
   "outputs": [
    {
     "data": {
      "text/plain": [
       "[Parameter containing:\n",
       " tensor([0.3367], requires_grad=True),\n",
       " Parameter containing:\n",
       " tensor([0.1288], requires_grad=True)]"
      ]
     },
     "execution_count": 14,
     "metadata": {},
     "output_type": "execute_result"
    }
   ],
   "source": [
    "list(model_0.parameters())"
   ]
  },
  {
   "cell_type": "code",
   "execution_count": 15,
   "id": "ada798ee",
   "metadata": {},
   "outputs": [
    {
     "name": "stdout",
     "output_type": "stream",
     "text": [
      "OrderedDict([('weight', tensor([0.3367])), ('bais', tensor([0.1288]))])\n"
     ]
    }
   ],
   "source": [
    "print(model_0.state_dict())"
   ]
  },
  {
   "cell_type": "markdown",
   "id": "f4a64cdd",
   "metadata": {},
   "source": [
    "##making predictions using torch.inference_mode()\n",
    "* to check our models predictive power, lets see how well it predicts 'y_test' based on 'X_test'"
   ]
  },
  {
   "cell_type": "code",
   "execution_count": 16,
   "id": "579a0c87",
   "metadata": {
    "scrolled": true
   },
   "outputs": [
    {
     "data": {
      "text/plain": [
       "tensor([[0.8000],\n",
       "        [0.8200],\n",
       "        [0.8400],\n",
       "        [0.8600],\n",
       "        [0.8800],\n",
       "        [0.9000],\n",
       "        [0.9200],\n",
       "        [0.9400],\n",
       "        [0.9600],\n",
       "        [0.9800]])"
      ]
     },
     "execution_count": 16,
     "metadata": {},
     "output_type": "execute_result"
    }
   ],
   "source": [
    "X_test"
   ]
  },
  {
   "cell_type": "code",
   "execution_count": 17,
   "id": "87ef925a",
   "metadata": {
    "scrolled": true
   },
   "outputs": [
    {
     "data": {
      "text/plain": [
       "tensor([[0.3982],\n",
       "        [0.4049],\n",
       "        [0.4116],\n",
       "        [0.4184],\n",
       "        [0.4251],\n",
       "        [0.4318],\n",
       "        [0.4386],\n",
       "        [0.4453],\n",
       "        [0.4520],\n",
       "        [0.4588]])"
      ]
     },
     "execution_count": 17,
     "metadata": {},
     "output_type": "execute_result"
    }
   ],
   "source": [
    "with torch.inference_mode():\n",
    "    y_preds=model_0(X_test)\n",
    "y_preds\n"
   ]
  },
  {
   "cell_type": "code",
   "execution_count": 18,
   "id": "bcf15917",
   "metadata": {},
   "outputs": [
    {
     "data": {
      "text/plain": [
       "tensor([[0.3982],\n",
       "        [0.4049],\n",
       "        [0.4116],\n",
       "        [0.4184],\n",
       "        [0.4251],\n",
       "        [0.4318],\n",
       "        [0.4386],\n",
       "        [0.4453],\n",
       "        [0.4520],\n",
       "        [0.4588]])"
      ]
     },
     "execution_count": 18,
     "metadata": {},
     "output_type": "execute_result"
    }
   ],
   "source": [
    "(y_preds)"
   ]
  },
  {
   "cell_type": "code",
   "execution_count": 19,
   "id": "e37f4f59",
   "metadata": {},
   "outputs": [
    {
     "data": {
      "image/png": "[encoded data removed]",
      "text/plain": [
       "<Figure size 720x504 with 1 Axes>"
      ]
     },
     "metadata": {
      "needs_background": "light"
     },
     "output_type": "display_data"
    }
   ],
   "source": [
    "plot_predictions()\n",
    "plt.scatter(X_test,y_preds)\n",
    "plt.show()"
   ]
  },
  {
   "cell_type": "code",
   "execution_count": 20,
   "id": "9da7f54c",
   "metadata": {},
   "outputs": [],
   "source": [
    "# train model\n",
    "# the whole idea of training is for a model to move from some unknown parameters to knows parameters\n",
    "#or in other words from a poor rep of the data to a better represenation of the data"
   ]
  },
  {
   "cell_type": "code",
   "execution_count": 21,
   "id": "4d25b480",
   "metadata": {},
   "outputs": [],
   "source": [
    "#one way to measure how poor or how wrong your models predictions are is to use a loss function\n",
    "#optimezer takes into account the loss of a model and adjusts the models parameters to improve the loss function"
   ]
  },
  {
   "cell_type": "code",
   "execution_count": 22,
   "id": "8f00d8ca",
   "metadata": {},
   "outputs": [
    {
     "data": {
      "text/plain": [
       "tensor(0.4615)"
      ]
     },
     "execution_count": 22,
     "metadata": {},
     "output_type": "execute_result"
    }
   ],
   "source": [
    "((X_test-y_preds)).mean()"
   ]
  },
  {
   "cell_type": "code",
   "execution_count": 23,
   "id": "1699ae7c",
   "metadata": {},
   "outputs": [],
   "source": [
    "#set up an loss fucntion\n",
    "loss_fn=nn.L1Loss()\n",
    "\n",
    "\n",
    "\n",
    "#set up an optimizer\n",
    "# SGD stochastic gradient descent\n",
    "optimizer=  torch.optim.SGD(params=model_0.parameters(),\n",
    "                           lr=0.01) #learning rate\n"
   ]
  },
  {
   "cell_type": "markdown",
   "id": "5c922935",
   "metadata": {},
   "source": [
    "# building a training loop in Pytorch\n",
    "0. Loop through the data\n",
    "1. forward pass (this involes data moving through our model's forward() method. to make predictons\n",
    "2. Calculate the loss (compare forward pass predictions to ground truth labels)\n",
    "3. Optimizer zero grad\n",
    "4. loss backward\n",
    "5. optimizer step"
   ]
  },
  {
   "cell_type": "code",
   "execution_count": 24,
   "id": "d766dbdb",
   "metadata": {},
   "outputs": [
    {
     "data": {
      "text/plain": [
       "<generator object Module.parameters at 0x7fd6202ef040>"
      ]
     },
     "execution_count": 24,
     "metadata": {},
     "output_type": "execute_result"
    }
   ],
   "source": [
    "model_0.parameters()"
   ]
  },
  {
   "cell_type": "code",
   "execution_count": 36,
   "id": "76eb3992",
   "metadata": {
    "scrolled": false
   },
   "outputs": [
    {
     "name": "stdout",
     "output_type": "stream",
     "text": [
      "Epoch: 0 | loss: 0.024458957836031914 | test loss: 0.05646304413676262\n",
      "OrderedDict([('weight', tensor([0.5800])), ('bais', tensor([0.3503]))])\n",
      "Epoch: 10 | loss: 0.021020207554101944 | test loss: 0.04819049686193466\n",
      "OrderedDict([('weight', tensor([0.5972])), ('bais', tensor([0.3433]))])\n",
      "Epoch: 20 | loss: 0.01758546568453312 | test loss: 0.04060482233762741\n",
      "OrderedDict([('weight', tensor([0.6141])), ('bais', tensor([0.3358]))])\n",
      "Epoch: 30 | loss: 0.014155393466353416 | test loss: 0.03233227878808975\n",
      "OrderedDict([('weight', tensor([0.6313])), ('bais', tensor([0.3288]))])\n",
      "Epoch: 40 | loss: 0.010716589167714119 | test loss: 0.024059748277068138\n",
      "OrderedDict([('weight', tensor([0.6485])), ('bais', tensor([0.3218]))])\n",
      "Epoch: 50 | loss: 0.0072835334576666355 | test loss: 0.016474086791276932\n",
      "OrderedDict([('weight', tensor([0.6654])), ('bais', tensor([0.3143]))])\n",
      "Epoch: 60 | loss: 0.0038517764769494534 | test loss: 0.008201557211577892\n",
      "OrderedDict([('weight', tensor([0.6826])), ('bais', tensor([0.3073]))])\n",
      "Epoch: 70 | loss: 0.008932482451200485 | test loss: 0.005023092031478882\n",
      "OrderedDict([('weight', tensor([0.6951])), ('bais', tensor([0.2993]))])\n",
      "Epoch: 80 | loss: 0.008932482451200485 | test loss: 0.005023092031478882\n",
      "OrderedDict([('weight', tensor([0.6951])), ('bais', tensor([0.2993]))])\n",
      "Epoch: 90 | loss: 0.008932482451200485 | test loss: 0.005023092031478882\n",
      "OrderedDict([('weight', tensor([0.6951])), ('bais', tensor([0.2993]))])\n"
     ]
    }
   ],
   "source": [
    "#an epoch is one loop through the data\n",
    "torch.manual_seed(42)\n",
    "epochs=100\n",
    "#training\n",
    "#loop through the data\n",
    "for epoch in range(epochs):\n",
    "    #set the model to training mode\n",
    "    model_0.train() #train mode in pytorch sets all parameters that require gradients\n",
    "    #forward pass\n",
    "    y_pred= model_0(X_train)\n",
    "    #calc the loss\n",
    "    loss=loss_fn(y_pred, y_train)\n",
    "#     print(f'loss: {loss}')\n",
    "    #optimizer zero\n",
    "    optimizer.zero_grad()\n",
    "    #perform back propogation\n",
    "    loss.backward()\n",
    "    #step the optimizer perform gradient descent\n",
    "    optimizer.step()\n",
    "    \n",
    "    ###testing\n",
    "    model_0.eval() #turns off different settings not needed\n",
    "    with torch.inference_mode(): #turns off gradient tracking\n",
    "        #forward pass\n",
    "        test_pred=model_0(X_test)\n",
    "        #calculate the loss\n",
    "        test_loss=loss_fn(test_pred,y_test)\n",
    "    if epoch%10==0:\n",
    "        print(f\"Epoch: {epoch} | loss: {loss} | test loss: {test_loss}\")\n",
    "        \n",
    "        print(model_0.state_dict())"
   ]
  },
  {
   "cell_type": "code",
   "execution_count": 37,
   "id": "cd9cd1b5",
   "metadata": {},
   "outputs": [
    {
     "data": {
      "text/plain": [
       "(0.7, 0.3)"
      ]
     },
     "execution_count": 37,
     "metadata": {},
     "output_type": "execute_result"
    }
   ],
   "source": [
    "weight,bais"
   ]
  },
  {
   "cell_type": "code",
   "execution_count": 38,
   "id": "9bd5d120",
   "metadata": {},
   "outputs": [],
   "source": [
    "with torch.inference_mode():\n",
    "    y_preds_new =model_0(X_test)"
   ]
  },
  {
   "cell_type": "code",
   "execution_count": 52,
   "id": "3c47d736",
   "metadata": {},
   "outputs": [
    {
     "data": {
      "image/png": "[encoded data removed]",
      "text/plain": [
       "<Figure size 720x504 with 1 Axes>"
      ]
     },
     "metadata": {
      "needs_background": "light"
     },
     "output_type": "display_data"
    }
   ],
   "source": [
    "plot_predictions()\n",
    "plt.scatter(X_test,y_preds_new)\n",
    "plt.show()"
   ]
  },
  {
   "cell_type": "code",
   "execution_count": 40,
   "id": "1438d4f5",
   "metadata": {},
   "outputs": [
    {
     "data": {
      "text/plain": [
       "LinearRegressionModel()"
      ]
     },
     "execution_count": 40,
     "metadata": {},
     "output_type": "execute_result"
    }
   ],
   "source": [
    "model_0"
   ]
  },
  {
   "cell_type": "markdown",
   "id": "b698db45",
   "metadata": {},
   "source": [
    "#saving a model in Pytorch\n",
    "there are 3 methods\n",
    "1. torch.save()\n",
    "2. torch.load()\n",
    "3. torch.nn.Module.load_state_dict()"
   ]
  },
  {
   "cell_type": "code",
   "execution_count": 41,
   "id": "e4ebf550",
   "metadata": {},
   "outputs": [
    {
     "name": "stdout",
     "output_type": "stream",
     "text": [
      "Saving model to: models/01_pytorch_workflow_model_0.pth\n"
     ]
    }
   ],
   "source": [
    "#saving our pytorch\n",
    "from pathlib import Path\n",
    "\n",
    "#create model dir\n",
    "MODEL_PATH= Path('models')\n",
    "MODEL_PATH.mkdir(parents=True, exist_ok= True)\n",
    "\n",
    "#create model save path\n",
    "MODEL_NAME= '01_pytorch_workflow_model_0.pth'\n",
    "MODEL_SAVE_PATH=  MODEL_PATH / MODEL_NAME\n",
    "\n",
    "\n",
    "\n",
    "#save the model for state dict\n",
    "print(f\"Saving model to: {MODEL_SAVE_PATH}\")\n",
    "torch.save(obj=model_0.state_dict(),\n",
    "          f=MODEL_SAVE_PATH)\n",
    "      "
   ]
  },
  {
   "cell_type": "code",
   "execution_count": 42,
   "id": "ccb97d5b",
   "metadata": {},
   "outputs": [
    {
     "data": {
      "text/plain": [
       "OrderedDict([('weight', tensor([0.6990])), ('bais', tensor([0.3093]))])"
      ]
     },
     "execution_count": 42,
     "metadata": {},
     "output_type": "execute_result"
    }
   ],
   "source": [
    "#loading a pytorch model\n",
    "model_0.state_dict()"
   ]
  },
  {
   "cell_type": "code",
   "execution_count": 43,
   "id": "e19f51ee",
   "metadata": {},
   "outputs": [],
   "source": [
    "loaded_model_0= LinearRegressionModel()"
   ]
  },
  {
   "cell_type": "code",
   "execution_count": 44,
   "id": "436a6f39",
   "metadata": {},
   "outputs": [
    {
     "data": {
      "text/plain": [
       "OrderedDict([('weight', tensor([0.3367])), ('bais', tensor([0.1288]))])"
      ]
     },
     "execution_count": 44,
     "metadata": {},
     "output_type": "execute_result"
    }
   ],
   "source": [
    "#load the saved state_dict\n",
    "loaded_model_0.state_dict()"
   ]
  },
  {
   "cell_type": "code",
   "execution_count": 45,
   "id": "c1c2a90c",
   "metadata": {},
   "outputs": [
    {
     "data": {
      "text/plain": [
       "<All keys matched successfully>"
      ]
     },
     "execution_count": 45,
     "metadata": {},
     "output_type": "execute_result"
    }
   ],
   "source": [
    "loaded_model_0.load_state_dict(torch.load(f=MODEL_SAVE_PATH))"
   ]
  },
  {
   "cell_type": "code",
   "execution_count": 46,
   "id": "a73ae8d3",
   "metadata": {},
   "outputs": [
    {
     "data": {
      "text/plain": [
       "OrderedDict([('weight', tensor([0.6990])), ('bais', tensor([0.3093]))])"
      ]
     },
     "execution_count": 46,
     "metadata": {},
     "output_type": "execute_result"
    }
   ],
   "source": [
    "loaded_model_0.state_dict()"
   ]
  },
  {
   "cell_type": "code",
   "execution_count": 47,
   "id": "e1e516bc",
   "metadata": {},
   "outputs": [
    {
     "data": {
      "text/plain": [
       "tensor([[0.8685],\n",
       "        [0.8825],\n",
       "        [0.8965],\n",
       "        [0.9105],\n",
       "        [0.9245],\n",
       "        [0.9384],\n",
       "        [0.9524],\n",
       "        [0.9664],\n",
       "        [0.9804],\n",
       "        [0.9944]])"
      ]
     },
     "execution_count": 47,
     "metadata": {},
     "output_type": "execute_result"
    }
   ],
   "source": [
    "#make predictions with our loaded model\n",
    "loaded_model_0.eval()\n",
    "with torch.inference_mode():\n",
    "    loaded_model_preds= loaded_model_0(X_test)\n",
    "loaded_model_preds"
   ]
  },
  {
   "cell_type": "code",
   "execution_count": 48,
   "id": "171c15df",
   "metadata": {},
   "outputs": [
    {
     "data": {
      "text/plain": [
       "tensor([[False],\n",
       "        [False],\n",
       "        [False],\n",
       "        [False],\n",
       "        [False],\n",
       "        [False],\n",
       "        [False],\n",
       "        [False],\n",
       "        [False],\n",
       "        [False]])"
      ]
     },
     "execution_count": 48,
     "metadata": {},
     "output_type": "execute_result"
    }
   ],
   "source": [
    "#compare loaded model preds with original model preds\n",
    "y_preds == loaded_model_preds"
   ]
  },
  {
   "cell_type": "code",
   "execution_count": 49,
   "id": "f6c8f59d",
   "metadata": {},
   "outputs": [
    {
     "data": {
      "text/plain": [
       "tensor([[0.8685],\n",
       "        [0.8825],\n",
       "        [0.8965],\n",
       "        [0.9105],\n",
       "        [0.9245],\n",
       "        [0.9384],\n",
       "        [0.9524],\n",
       "        [0.9664],\n",
       "        [0.9804],\n",
       "        [0.9944]])"
      ]
     },
     "execution_count": 49,
     "metadata": {},
     "output_type": "execute_result"
    }
   ],
   "source": [
    "#making some model preds\n",
    "model_0.eval()\n",
    "with torch.inference_mode():\n",
    "    y_preds=model_0(X_test)\n",
    "y_preds"
   ]
  },
  {
   "cell_type": "code",
   "execution_count": 50,
   "id": "57e27424",
   "metadata": {},
   "outputs": [
    {
     "data": {
      "text/plain": [
       "tensor([[True],\n",
       "        [True],\n",
       "        [True],\n",
       "        [True],\n",
       "        [True],\n",
       "        [True],\n",
       "        [True],\n",
       "        [True],\n",
       "        [True],\n",
       "        [True]])"
      ]
     },
     "execution_count": 50,
     "metadata": {},
     "output_type": "execute_result"
    }
   ],
   "source": [
    "y_preds == loaded_model_preds"
   ]
  },
  {
   "cell_type": "markdown",
   "id": "9c2dfa91",
   "metadata": {},
   "source": [
    "#putting it all together\n"
   ]
  },
  {
   "cell_type": "code",
   "execution_count": null,
   "id": "7b9f7f50",
   "metadata": {},
   "outputs": [],
   "source": []
  }
 ],
 "metadata": {
  "kernelspec": {
   "display_name": "Python 3",
   "language": "python",
   "name": "python3"
  },
  "language_info": {
   "codemirror_mode": {
    "name": "ipython",
    "version": 3
   },
   "file_extension": ".py",
   "mimetype": "text/x-python",
   "name": "python",
   "nbconvert_exporter": "python",
   "pygments_lexer": "ipython3",
   "version": "3.8.8"
  }
 },
 "nbformat": 4,
 "nbformat_minor": 5
}

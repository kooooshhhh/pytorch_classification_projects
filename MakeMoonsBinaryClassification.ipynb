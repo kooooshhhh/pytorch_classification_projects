{
 "cells": [
  {
   "cell_type": "code",
   "execution_count": 1,
   "id": "5edbcab4",
   "metadata": {},
   "outputs": [
    {
     "name": "stderr",
     "output_type": "stream",
     "text": [
      "/Users/kush/opt/anaconda3/lib/python3.8/site-packages/scipy/__init__.py:138: UserWarning: A NumPy version >=1.16.5 and <1.23.0 is required for this version of SciPy (detected version 1.23.2)\n",
      "  warnings.warn(f\"A NumPy version >={np_minversion} and <{np_maxversion} is required for this version of \"\n"
     ]
    }
   ],
   "source": [
    "import torch \n",
    "from torch import nn\n",
    "from sklearn.model_selection import train_test_split\n",
    "import matplotlib.pyplot as plt\n",
    "import numpy as np\n",
    "from sklearn.datasets import make_moons"
   ]
  },
  {
   "cell_type": "code",
   "execution_count": 2,
   "id": "190d9d93",
   "metadata": {},
   "outputs": [],
   "source": [
    "#make 1000 samples\n",
    "n_samples = 1000\n",
    "X,y = make_moons(n_samples,\n",
    "                  noise=0.03,\n",
    "                  random_state=42)"
   ]
  },
  {
   "cell_type": "code",
   "execution_count": 3,
   "id": "bd542239",
   "metadata": {},
   "outputs": [
    {
     "data": {
      "text/html": [
       "<div>\n",
       "<style scoped>\n",
       "    .dataframe tbody tr th:only-of-type {\n",
       "        vertical-align: middle;\n",
       "    }\n",
       "\n",
       "    .dataframe tbody tr th {\n",
       "        vertical-align: top;\n",
       "    }\n",
       "\n",
       "    .dataframe thead th {\n",
       "        text-align: right;\n",
       "    }\n",
       "</style>\n",
       "<table border=\"1\" class=\"dataframe\">\n",
       "  <thead>\n",
       "    <tr style=\"text-align: right;\">\n",
       "      <th></th>\n",
       "      <th>X1</th>\n",
       "      <th>X2</th>\n",
       "      <th>lable</th>\n",
       "    </tr>\n",
       "  </thead>\n",
       "  <tbody>\n",
       "    <tr>\n",
       "      <th>0</th>\n",
       "      <td>-0.009332</td>\n",
       "      <td>0.390981</td>\n",
       "      <td>1</td>\n",
       "    </tr>\n",
       "    <tr>\n",
       "      <th>1</th>\n",
       "      <td>0.954574</td>\n",
       "      <td>-0.473756</td>\n",
       "      <td>1</td>\n",
       "    </tr>\n",
       "    <tr>\n",
       "      <th>2</th>\n",
       "      <td>0.918526</td>\n",
       "      <td>-0.425196</td>\n",
       "      <td>1</td>\n",
       "    </tr>\n",
       "    <tr>\n",
       "      <th>3</th>\n",
       "      <td>0.412768</td>\n",
       "      <td>-0.376385</td>\n",
       "      <td>1</td>\n",
       "    </tr>\n",
       "    <tr>\n",
       "      <th>4</th>\n",
       "      <td>-0.845320</td>\n",
       "      <td>0.528799</td>\n",
       "      <td>0</td>\n",
       "    </tr>\n",
       "    <tr>\n",
       "      <th>...</th>\n",
       "      <td>...</td>\n",
       "      <td>...</td>\n",
       "      <td>...</td>\n",
       "    </tr>\n",
       "    <tr>\n",
       "      <th>995</th>\n",
       "      <td>0.793018</td>\n",
       "      <td>0.591402</td>\n",
       "      <td>0</td>\n",
       "    </tr>\n",
       "    <tr>\n",
       "      <th>996</th>\n",
       "      <td>-0.138777</td>\n",
       "      <td>0.968000</td>\n",
       "      <td>0</td>\n",
       "    </tr>\n",
       "    <tr>\n",
       "      <th>997</th>\n",
       "      <td>1.653915</td>\n",
       "      <td>-0.291798</td>\n",
       "      <td>1</td>\n",
       "    </tr>\n",
       "    <tr>\n",
       "      <th>998</th>\n",
       "      <td>-0.934102</td>\n",
       "      <td>0.353582</td>\n",
       "      <td>0</td>\n",
       "    </tr>\n",
       "    <tr>\n",
       "      <th>999</th>\n",
       "      <td>0.796836</td>\n",
       "      <td>0.604237</td>\n",
       "      <td>0</td>\n",
       "    </tr>\n",
       "  </tbody>\n",
       "</table>\n",
       "<p>1000 rows × 3 columns</p>\n",
       "</div>"
      ],
      "text/plain": [
       "           X1        X2  lable\n",
       "0   -0.009332  0.390981      1\n",
       "1    0.954574 -0.473756      1\n",
       "2    0.918526 -0.425196      1\n",
       "3    0.412768 -0.376385      1\n",
       "4   -0.845320  0.528799      0\n",
       "..        ...       ...    ...\n",
       "995  0.793018  0.591402      0\n",
       "996 -0.138777  0.968000      0\n",
       "997  1.653915 -0.291798      1\n",
       "998 -0.934102  0.353582      0\n",
       "999  0.796836  0.604237      0\n",
       "\n",
       "[1000 rows x 3 columns]"
      ]
     },
     "execution_count": 3,
     "metadata": {},
     "output_type": "execute_result"
    }
   ],
   "source": [
    "#making df with pandas\n",
    "import pandas as pd\n",
    "moons= pd.DataFrame({\"X1\": X[:, 0],\n",
    "                     \"X2\": X[:,1],\n",
    "                     \"lable\": y})\n",
    "moons"
   ]
  },
  {
   "cell_type": "code",
   "execution_count": 4,
   "id": "122024df",
   "metadata": {},
   "outputs": [
    {
     "data": {
      "text/plain": [
       "array([[-0.00933187,  0.39098105],\n",
       "       [ 0.95457387, -0.47375583],\n",
       "       [ 0.9185256 , -0.42519648],\n",
       "       ...,\n",
       "       [ 1.65391483, -0.29179795],\n",
       "       [-0.9341017 ,  0.35358221],\n",
       "       [ 0.7968358 ,  0.60423662]])"
      ]
     },
     "execution_count": 4,
     "metadata": {},
     "output_type": "execute_result"
    }
   ],
   "source": [
    "X"
   ]
  },
  {
   "cell_type": "code",
   "execution_count": 16,
   "id": "bbf286e2",
   "metadata": {
    "scrolled": true
   },
   "outputs": [
    {
     "data": {
      "image/png": "[encoded data removed]",
      "text/plain": [
       "<Figure size 432x288 with 1 Axes>"
      ]
     },
     "metadata": {
      "needs_background": "light"
     },
     "output_type": "display_data"
    }
   ],
   "source": [
    "#visualisations\n",
    "plt.scatter(x=X[:, 0], y=X[:, 1], c=y)\n",
    "plt.show()"
   ]
  },
  {
   "cell_type": "code",
   "execution_count": 17,
   "id": "fc0bb792",
   "metadata": {},
   "outputs": [],
   "source": [
    "#turn data into tensors\n",
    "X= torch.from_numpy(X).type(torch.float)\n",
    "y= torch.from_numpy(y).type(torch.float)"
   ]
  },
  {
   "cell_type": "code",
   "execution_count": 18,
   "id": "b5451b81",
   "metadata": {},
   "outputs": [],
   "source": [
    "#two input features and 1 output feature (binary classification)"
   ]
  },
  {
   "cell_type": "code",
   "execution_count": 19,
   "id": "959db232",
   "metadata": {},
   "outputs": [],
   "source": [
    "#train test split\n",
    "X_moon_train, X_moon_test, y_moon_train, y_moon_test= train_test_split(X,\n",
    "                                                                       y,\n",
    "                                                                      test_size=0.2,\n",
    "                                                                      random_state=42)"
   ]
  },
  {
   "cell_type": "code",
   "execution_count": 21,
   "id": "48d48022",
   "metadata": {},
   "outputs": [
    {
     "data": {
      "text/plain": [
       "(torch.Size([800, 2]),\n",
       " torch.Size([200, 2]),\n",
       " torch.Size([800]),\n",
       " torch.Size([200]))"
      ]
     },
     "execution_count": 21,
     "metadata": {},
     "output_type": "execute_result"
    }
   ],
   "source": [
    "X_moon_train.shape, X_moon_test.shape, y_moon_train.shape, y_moon_test.shape"
   ]
  },
  {
   "cell_type": "code",
   "execution_count": 94,
   "id": "2b668efb",
   "metadata": {},
   "outputs": [
    {
     "data": {
      "text/plain": [
       "MoonModel(\n",
       "  (layer_1): Linear(in_features=2, out_features=8, bias=True)\n",
       "  (layer_2): Linear(in_features=8, out_features=8, bias=True)\n",
       "  (layer_3): Linear(in_features=8, out_features=1, bias=True)\n",
       "  (relu): ReLU()\n",
       ")"
      ]
     },
     "execution_count": 94,
     "metadata": {},
     "output_type": "execute_result"
    }
   ],
   "source": [
    "#builing a model\n",
    "#subclas nn.Module\n",
    "class MoonModel(nn.Module):\n",
    "    def __init__(self):\n",
    "        super().__init__()\n",
    "        self.layer_1=nn.Linear(in_features=2,out_features=8)\n",
    "        self.layer_2=nn.Linear(in_features=8,out_features=8)\n",
    "        self.layer_3=nn.Linear(in_features=8,out_features=1)\n",
    "        self.relu=nn.ReLU()\n",
    "    \n",
    "    def forward(self,x):\n",
    "        return self.layer_3(self.relu(self.layer_2(self.relu(self.layer_1(x)))))\n",
    "    \n",
    "    \n",
    "model_5=MoonModel()\n",
    "model_5"
   ]
  },
  {
   "cell_type": "code",
   "execution_count": 95,
   "id": "fd89291c",
   "metadata": {},
   "outputs": [],
   "source": [
    "#accuracy function\n",
    "#calc accuracy\n",
    "def accuracy_fn(y_true,y_pred):\n",
    "    correct=torch.eq(y_true,y_pred).sum().item()\n",
    "    acc=(correct/len(y_pred)) * 100\n",
    "    return acc"
   ]
  },
  {
   "cell_type": "code",
   "execution_count": 96,
   "id": "dfd2c389",
   "metadata": {},
   "outputs": [
    {
     "data": {
      "text/plain": [
       "tensor([[-0.0971],\n",
       "        [-0.2020],\n",
       "        [-0.1853],\n",
       "        [-0.1810],\n",
       "        [-0.3208]])"
      ]
     },
     "execution_count": 96,
     "metadata": {},
     "output_type": "execute_result"
    }
   ],
   "source": [
    "#view first 5 outputs of forward pass on test data\n",
    "model_5.eval()\n",
    "with torch.inference_mode():\n",
    "    y_logits=model_5(X_moon_test)[:5]\n",
    "y_logits"
   ]
  },
  {
   "cell_type": "code",
   "execution_count": 97,
   "id": "a380fb50",
   "metadata": {},
   "outputs": [
    {
     "data": {
      "text/plain": [
       "tensor([[0.4757],\n",
       "        [0.4497],\n",
       "        [0.4538],\n",
       "        [0.4549],\n",
       "        [0.4205]])"
      ]
     },
     "execution_count": 97,
     "metadata": {},
     "output_type": "execute_result"
    }
   ],
   "source": [
    "#use sigmoid activation funtion on our model logits to tun them into prediction probablities\n",
    "y_pred_probs = torch.sigmoid(y_logits)\n",
    "y_pred_probs"
   ]
  },
  {
   "cell_type": "code",
   "execution_count": 98,
   "id": "eae01f3d",
   "metadata": {
    "scrolled": true
   },
   "outputs": [
    {
     "data": {
      "text/plain": [
       "tensor([[0.],\n",
       "        [0.],\n",
       "        [0.],\n",
       "        [0.],\n",
       "        [0.]])"
      ]
     },
     "execution_count": 98,
     "metadata": {},
     "output_type": "execute_result"
    }
   ],
   "source": [
    "torch.round(y_pred_probs)"
   ]
  },
  {
   "cell_type": "code",
   "execution_count": 99,
   "id": "7ed3fe86",
   "metadata": {},
   "outputs": [
    {
     "name": "stdout",
     "output_type": "stream",
     "text": [
      "tensor([True, True, True, True, True])\n"
     ]
    },
    {
     "data": {
      "text/plain": [
       "tensor([0., 0., 0., 0., 0.])"
      ]
     },
     "execution_count": 99,
     "metadata": {},
     "output_type": "execute_result"
    }
   ],
   "source": [
    "#find the predicted lables\n",
    "y_preds = torch.round(y_pred_probs)\n",
    "\n",
    "#in full\n",
    "y_pred_labels=torch.round(torch.sigmoid(model_5(X_moon_test)))[:5]\n",
    "\n",
    "# check for equality\n",
    "print(torch.eq(y_preds.squeeze(),y_pred_labels.squeeze()))\n",
    "\n",
    "#get rid of extra dimension\n",
    "y_preds.squeeze()"
   ]
  },
  {
   "cell_type": "code",
   "execution_count": 115,
   "id": "fa5c7d5d",
   "metadata": {},
   "outputs": [],
   "source": [
    "#loss function\n",
    "loss_fn= nn.BCEWithLogitsLoss()\n",
    "#optimizer\n",
    "optimizer=torch.optim.SGD(model_5.parameters(),\n",
    "                          lr=0.1)"
   ]
  },
  {
   "cell_type": "code",
   "execution_count": 120,
   "id": "f8cfb770",
   "metadata": {},
   "outputs": [
    {
     "name": "stdout",
     "output_type": "stream",
     "text": [
      "Epoch: 0 | loss:  0.00966, Acc:100.00% | Test loss: 0.00799, Test acc: 100.00%\n",
      "Epoch: 100 | loss:  0.00824, Acc:100.00% | Test loss: 0.00674, Test acc: 100.00%\n",
      "Epoch: 200 | loss:  0.00714, Acc:100.00% | Test loss: 0.00579, Test acc: 100.00%\n",
      "Epoch: 300 | loss:  0.00629, Acc:100.00% | Test loss: 0.00506, Test acc: 100.00%\n",
      "Epoch: 400 | loss:  0.00560, Acc:100.00% | Test loss: 0.00448, Test acc: 100.00%\n",
      "Epoch: 500 | loss:  0.00503, Acc:100.00% | Test loss: 0.00401, Test acc: 100.00%\n",
      "Epoch: 600 | loss:  0.00456, Acc:100.00% | Test loss: 0.00362, Test acc: 100.00%\n",
      "Epoch: 700 | loss:  0.00416, Acc:100.00% | Test loss: 0.00329, Test acc: 100.00%\n",
      "Epoch: 800 | loss:  0.00382, Acc:100.00% | Test loss: 0.00301, Test acc: 100.00%\n",
      "Epoch: 900 | loss:  0.00353, Acc:100.00% | Test loss: 0.00276, Test acc: 100.00%\n"
     ]
    },
    {
     "data": {
      "image/png": "[encoded data removed]",
      "text/plain": [
       "<Figure size 864x432 with 2 Axes>"
      ]
     },
     "metadata": {
      "needs_background": "light"
     },
     "output_type": "display_data"
    }
   ],
   "source": [
    "#training loop\n",
    "torch.manual_seed(42)\n",
    "epochs=1000\n",
    "for epoch in range(epochs):\n",
    "    model_5.train()\n",
    "    y_logits=model_5(X_moon_train).squeeze()\n",
    "    y_pred= torch.round(torch.sigmoid(y_logits))\n",
    "    \n",
    "    loss=loss_fn(y_logits,y_moon_train)\n",
    "    acc= accuracy_fn(y_true=y_moon_train,y_pred=y_pred)\n",
    "    \n",
    "    optimizer.zero_grad()\n",
    "    \n",
    "    loss.backward()\n",
    "    \n",
    "    optimizer.step()\n",
    "    \n",
    "    model_5.eval()\n",
    "    with torch.inference_mode():\n",
    "        test_logits = model_5(X_moon_test).squeeze()\n",
    "        test_pred = torch.round(torch.sigmoid(test_logits))\n",
    "        \n",
    "        test_loss= loss_fn(test_logits,y_moon_test)\n",
    "        test_acc= accuracy_fn(y_true=y_moon_test,y_pred=test_pred)\n",
    "        \n",
    "    if epoch%100==0:\n",
    "        print(f\"Epoch: {epoch} | loss: {loss: .5f}, Acc:{acc:.2f}% | Test loss: {test_loss:.5f}, Test acc: {test_acc:.2f}%\")\n",
    "        \n",
    "plt.figure(figsize=(12,6))\n",
    "plt.subplot(1,2,1)\n",
    "plt.title(\"train\")\n",
    "plot_decision_boundary(model_5,X_moon_train,y_moon_train)\n",
    "plt.subplot(1,2,2)\n",
    "plt.title(\"Test\")\n",
    "plot_decision_boundary(model_5,X_moon_test,y_moon_test)       "
   ]
  },
  {
   "cell_type": "code",
   "execution_count": 117,
   "id": "3c15bda7",
   "metadata": {},
   "outputs": [
    {
     "name": "stdout",
     "output_type": "stream",
     "text": [
      "already downloaded\n"
     ]
    }
   ],
   "source": [
    "import requests\n",
    "from pathlib import Path\n",
    "\n",
    "#download helper function\n",
    "if Path(\"helper_functions.py\").is_file():\n",
    "    print('already downloaded')\n",
    "else:\n",
    "    print('downloading....')\n",
    "    request = requests.get(\"https://raw.githubusercontent.com/mrdbourke/pytorch-deep-learning/main/helper_functions.py\")\n",
    "    with open(\"helper_functions.py\", \"wb\") as f:\n",
    "        f.write(request.content)\n",
    "\n",
    "from helper_functions import plot_predictions, plot_decision_boundary\n"
   ]
  },
  {
   "cell_type": "code",
   "execution_count": null,
   "id": "2a69775b",
   "metadata": {},
   "outputs": [],
   "source": []
  }
 ],
 "metadata": {
  "kernelspec": {
   "display_name": "Python 3",
   "language": "python",
   "name": "python3"
  },
  "language_info": {
   "codemirror_mode": {
    "name": "ipython",
    "version": 3
   },
   "file_extension": ".py",
   "mimetype": "text/x-python",
   "name": "python",
   "nbconvert_exporter": "python",
   "pygments_lexer": "ipython3",
   "version": "3.8.8"
  }
 },
 "nbformat": 4,
 "nbformat_minor": 5
}
